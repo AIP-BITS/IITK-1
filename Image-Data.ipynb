{
 "cells": [
  {
   "cell_type": "code",
   "execution_count": 1,
   "id": "4b929e4a",
   "metadata": {},
   "outputs": [
    {
     "name": "stdout",
     "output_type": "stream",
     "text": [
      "Requirement already satisfied: Pillow in c:\\users\\amit.kumar02\\miniconda3\\envs\\poc\\lib\\site-packages (8.2.0)\n"
     ]
    }
   ],
   "source": [
    "!pip install Pillow"
   ]
  },
  {
   "cell_type": "code",
   "execution_count": 4,
   "id": "32114eb1",
   "metadata": {},
   "outputs": [
    {
     "name": "stdout",
     "output_type": "stream",
     "text": [
      " Volume in drive C is System\n",
      " Volume Serial Number is EE4C-9909\n",
      "\n",
      " Directory of C:\\Amit\\BITS\\IITK\\DL\n",
      "\n",
      "07/30/2022  01:50 AM    <DIR>          .\n",
      "07/30/2022  01:50 AM    <DIR>          ..\n",
      "07/30/2022  01:51 AM    <DIR>          code\n",
      "07/29/2022  09:34 PM            36,356 model.png\n",
      "07/29/2022  09:34 PM               614 new_env.txt\n",
      "07/29/2022  09:34 PM               867 New-env.txt\n",
      "07/29/2022  09:34 PM               577 New-env2.txt\n",
      "07/29/2022  09:34 PM                 4 README.md\n",
      "07/30/2022  01:47 AM           114,501 sunflower.jpg\n",
      "               6 File(s)        152,919 bytes\n",
      "               3 Dir(s)  179,414,700,032 bytes free\n"
     ]
    }
   ],
   "source": [
    "%ls \"../\" "
   ]
  },
  {
   "cell_type": "code",
   "execution_count": 5,
   "id": "f7a4b85d",
   "metadata": {},
   "outputs": [
    {
     "name": "stdout",
     "output_type": "stream",
     "text": [
      "(400, 600, 3)\n"
     ]
    }
   ],
   "source": [
    "import numpy as np\n",
    "from PIL import Image\n",
    "img = Image.open(\"../sunflower.jpg\")\n",
    "imgArray = np.array(img)\n",
    "print(imgArray.shape)"
   ]
  },
  {
   "cell_type": "code",
   "execution_count": null,
   "id": "322a440f",
   "metadata": {},
   "outputs": [],
   "source": []
  }
 ],
 "metadata": {
  "kernelspec": {
   "display_name": "Python 3",
   "language": "python",
   "name": "python3"
  },
  "language_info": {
   "codemirror_mode": {
    "name": "ipython",
    "version": 3
   },
   "file_extension": ".py",
   "mimetype": "text/x-python",
   "name": "python",
   "nbconvert_exporter": "python",
   "pygments_lexer": "ipython3",
   "version": "3.7.0"
  }
 },
 "nbformat": 4,
 "nbformat_minor": 5
}
